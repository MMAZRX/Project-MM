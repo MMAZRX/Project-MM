{
 "cells": [
  {
   "cell_type": "code",
   "execution_count": 2,
   "id": "edb4d848-e069-45ad-898b-ddccb60c851f",
   "metadata": {},
   "outputs": [
    {
     "name": "stdout",
     "output_type": "stream",
     "text": [
      "(700, 9)\n",
      "  GOAL-Broken    Random  Machine nbr  lifetime  pressureInd  moistureInd  \\\n",
      "0         Yes  0.437420          723        60    77.836105   112.832544   \n",
      "1         Yes  0.688345          107        88    89.350620    95.228125   \n",
      "2          No  0.805670          153        30   130.089477    96.367747   \n",
      "3         Yes  0.923187          140        79    87.421990   110.941574   \n",
      "4          No  0.036583          359         2    69.939898    86.292387   \n",
      "\n",
      "   temperatureInd  team  provider  \n",
      "0      121.786371     3         3  \n",
      "1       99.082317     1         4  \n",
      "2      103.608344     1         3  \n",
      "3      129.691510     2         1  \n",
      "4       91.861983     3         3  \n"
     ]
    }
   ],
   "source": [
    "import pandas as pd\n",
    "import numpy as np\n",
    "import matplotlib.pyplot as plt\n",
    "import seaborn as sns\n",
    "from sklearn.model_selection import train_test_split    \n",
    "from sklearn.svm import SVC\n",
    "from sklearn.metrics import classification_report  \n",
    "from sklearn.metrics import confusion_matrix, accuracy_score\n",
    "\n",
    "url = 'D:\\\\__Max__\\\\Documents\\\\Machine Learning Course LANIA\\\\Recursos complementarios-20210804\\\\Datasets\\\\Failure prediction.csv'\n",
    "failure = pd.read_csv(url)\n",
    "print(failure.shape)\n",
    "print(failure.head())"
   ]
  },
  {
   "cell_type": "code",
   "execution_count": 36,
   "id": "d03f6e5a-500c-4af3-bd90-299f233b928c",
   "metadata": {},
   "outputs": [
    {
     "name": "stdout",
     "output_type": "stream",
     "text": [
      "     Random  Machine nbr  lifetime  pressureInd  moistureInd  temperatureInd  \\\n",
      "0  0.437420          723        60    77.836105   112.832544      121.786371   \n",
      "1  0.688345          107        88    89.350620    95.228125       99.082317   \n",
      "2  0.805670          153        30   130.089477    96.367747      103.608344   \n",
      "3  0.923187          140        79    87.421990   110.941574      129.691510   \n",
      "4  0.036583          359         2    69.939898    86.292387       91.861983   \n",
      "\n",
      "   team  provider  \n",
      "0     3         3  \n",
      "1     1         4  \n",
      "2     1         3  \n",
      "3     2         1  \n",
      "4     3         3  \n",
      "0    Yes\n",
      "1    Yes\n",
      "2     No\n",
      "3    Yes\n",
      "4     No\n",
      "Name: GOAL-Broken, dtype: object\n"
     ]
    }
   ],
   "source": [
    "propiedades = failure.iloc[:,1:]\n",
    "objetivo = failure['GOAL-Broken']\n",
    "print(propiedades.head())\n",
    "print(objetivo.head())"
   ]
  },
  {
   "cell_type": "code",
   "execution_count": 37,
   "id": "61973636-3d0f-40bd-aa11-36a0c421490c",
   "metadata": {},
   "outputs": [
    {
     "name": "stdout",
     "output_type": "stream",
     "text": [
      "Número de instancias de entrenamiento: 560\n",
      "Número de instancias de pureba: 140\n",
      "Número de instancias totales: 700\n"
     ]
    }
   ],
   "source": [
    "propiedades_train, propiedades_test, objetivo_train, objetivo_test = train_test_split(propiedades, objetivo, test_size=0.2, random_state=0)\n",
    "print('Número de instancias de entrenamiento: '+str(len(propiedades_train)))\n",
    "print('Número de instancias de pureba: '+str(len(propiedades_test)))\n",
    "print('Número de instancias totales: '+str(len(failure.index)))"
   ]
  },
  {
   "cell_type": "markdown",
   "id": "432575d0-50cb-4779-8630-e970859a96d5",
   "metadata": {},
   "source": [
    "## Algoritmo: Máquina de Soporte Vectorial Clasificación para la predicción de fallas."
   ]
  },
  {
   "cell_type": "code",
   "execution_count": 38,
   "id": "bcbaa16c-a85f-42db-b2e6-011ab3d2b947",
   "metadata": {},
   "outputs": [
    {
     "data": {
      "text/plain": [
       "SVC()"
      ]
     },
     "execution_count": 38,
     "metadata": {},
     "output_type": "execute_result"
    }
   ],
   "source": [
    "modelo = SVC(kernel = 'rbf')\n",
    "modelo.fit(propiedades_train, objetivo_train)"
   ]
  },
  {
   "cell_type": "code",
   "execution_count": 39,
   "id": "cf503577-1db4-4897-8817-903960980d7e",
   "metadata": {},
   "outputs": [],
   "source": [
    "prediccion_objetivo = modelo.predict(propiedades_test)"
   ]
  },
  {
   "cell_type": "code",
   "execution_count": 40,
   "id": "45fee3c9-bc8f-4136-9818-7c4b55b6c598",
   "metadata": {},
   "outputs": [
    {
     "name": "stdout",
     "output_type": "stream",
     "text": [
      "              precision    recall  f1-score   support\n",
      "\n",
      "          No       0.77      0.82      0.80        80\n",
      "         Yes       0.74      0.67      0.70        60\n",
      "\n",
      "    accuracy                           0.76       140\n",
      "   macro avg       0.75      0.75      0.75       140\n",
      "weighted avg       0.76      0.76      0.76       140\n",
      "\n"
     ]
    }
   ],
   "source": [
    "print(classification_report(objetivo_test, prediccion_objetivo))"
   ]
  },
  {
   "cell_type": "code",
   "execution_count": 42,
   "id": "375fd862-1009-4ec9-a17d-0670267d56d4",
   "metadata": {},
   "outputs": [
    {
     "name": "stdout",
     "output_type": "stream",
     "text": [
      "[[66 14]\n",
      " [20 40]]\n",
      "0.7571428571428571\n"
     ]
    }
   ],
   "source": [
    "MC = confusion_matrix(objetivo_test, prediccion_objetivo)\n",
    "print(MC)\n",
    "print(accuracy_score(objetivo_test, prediccion_objetivo))"
   ]
  },
  {
   "cell_type": "code",
   "execution_count": 28,
   "id": "0be81727-277f-40eb-a9af-98fece0c6349",
   "metadata": {},
   "outputs": [
    {
     "data": {
      "image/png": "[encoded data removed]",
      "text/plain": [
       "<Figure size 432x288 with 2 Axes>"
      ]
     },
     "metadata": {
      "needs_background": "light"
     },
     "output_type": "display_data"
    }
   ],
   "source": [
    "sns.heatmap(MC, annot=True, cbar=True, cmap=\"coolwarm\")\n",
    "plt.show()"
   ]
  },
  {
   "cell_type": "markdown",
   "id": "c64fbeec-2bdd-4ba4-a0d3-2cd1ec4557fe",
   "metadata": {},
   "source": [
    "## Algoritmo: Perceptrón Multicapa Clasificación para la predicción de fallas."
   ]
  },
  {
   "cell_type": "code",
   "execution_count": 32,
   "id": "341ada75-57be-4668-bc5d-fd9817d0bde8",
   "metadata": {},
   "outputs": [
    {
     "name": "stdout",
     "output_type": "stream",
     "text": [
      "Iteration 1, loss = 7.28907659\n",
      "Iteration 2, loss = 6.54842706\n",
      "Iteration 3, loss = 2.94329151\n",
      "Iteration 4, loss = 4.12107812\n",
      "Iteration 5, loss = 2.14398615\n",
      "Iteration 6, loss = 2.77587546\n",
      "Iteration 7, loss = 1.72089330\n",
      "Iteration 8, loss = 2.11989708\n",
      "Iteration 9, loss = 1.65386103\n",
      "Iteration 10, loss = 1.63638774\n",
      "Iteration 11, loss = 1.50872558\n",
      "Iteration 12, loss = 1.40199729\n",
      "Iteration 13, loss = 1.47487195\n",
      "Iteration 14, loss = 1.29264784\n",
      "Iteration 15, loss = 1.32152900\n",
      "Iteration 16, loss = 1.24522981\n",
      "Iteration 17, loss = 1.17478940\n",
      "Iteration 18, loss = 1.23925565\n",
      "Iteration 19, loss = 1.18806630\n",
      "Iteration 20, loss = 1.11849549\n",
      "Iteration 21, loss = 1.10323720\n",
      "Iteration 22, loss = 1.01256806\n",
      "Iteration 23, loss = 1.02770038\n",
      "Iteration 24, loss = 0.98104998\n",
      "Iteration 25, loss = 0.96476231\n",
      "Iteration 26, loss = 0.93633468\n",
      "Iteration 27, loss = 0.92956648\n",
      "Iteration 28, loss = 0.94008027\n",
      "Iteration 29, loss = 0.89538770\n",
      "Iteration 30, loss = 0.92593353\n",
      "Iteration 31, loss = 0.86565039\n",
      "Iteration 32, loss = 0.85294771\n",
      "Iteration 33, loss = 0.83992764\n",
      "Iteration 34, loss = 0.82644137\n",
      "Iteration 35, loss = 0.80812288\n",
      "Iteration 36, loss = 0.81053344\n",
      "Iteration 37, loss = 0.80150877\n",
      "Iteration 38, loss = 0.78523525\n",
      "Iteration 39, loss = 0.77645329\n",
      "Iteration 40, loss = 0.76060213\n",
      "Iteration 41, loss = 0.76199800\n",
      "Iteration 42, loss = 0.75884985\n",
      "Iteration 43, loss = 0.74795813\n",
      "Iteration 44, loss = 0.74381477\n",
      "Iteration 45, loss = 0.71811185\n",
      "Iteration 46, loss = 0.71636440\n",
      "Iteration 47, loss = 0.71087381\n",
      "Iteration 48, loss = 0.69851602\n",
      "Iteration 49, loss = 0.69299780\n",
      "Iteration 50, loss = 0.67480244\n",
      "Iteration 51, loss = 0.67494031\n",
      "Iteration 52, loss = 0.66849634\n",
      "Iteration 53, loss = 0.68245185\n",
      "Iteration 54, loss = 0.68694383\n",
      "Iteration 55, loss = 0.73740827\n",
      "Iteration 56, loss = 0.66100197\n",
      "Iteration 57, loss = 0.64589960\n",
      "Iteration 58, loss = 0.64700270\n",
      "Iteration 59, loss = 0.68360526\n",
      "Iteration 60, loss = 0.64361476\n",
      "Iteration 61, loss = 0.63318165\n",
      "Iteration 62, loss = 0.61827618\n",
      "Iteration 63, loss = 0.64454562\n",
      "Iteration 64, loss = 0.62063939\n",
      "Iteration 65, loss = 0.67162617\n",
      "Iteration 66, loss = 0.57732420\n",
      "Iteration 67, loss = 0.58837777\n",
      "Iteration 68, loss = 0.64617142\n",
      "Iteration 69, loss = 0.69281434\n",
      "Iteration 70, loss = 0.64940264\n",
      "Iteration 71, loss = 0.61619668\n",
      "Iteration 72, loss = 0.56008754\n",
      "Iteration 73, loss = 0.55480470\n",
      "Iteration 74, loss = 0.56124276\n",
      "Iteration 75, loss = 0.59093984\n",
      "Iteration 76, loss = 0.56767352\n",
      "Iteration 77, loss = 0.54179289\n",
      "Iteration 78, loss = 0.54755462\n",
      "Iteration 79, loss = 0.54838772\n",
      "Iteration 80, loss = 0.54509465\n",
      "Iteration 81, loss = 0.53852453\n",
      "Iteration 82, loss = 0.54799017\n",
      "Iteration 83, loss = 0.51794006\n",
      "Iteration 84, loss = 0.51593054\n",
      "Iteration 85, loss = 0.50139632\n",
      "Iteration 86, loss = 0.50534293\n",
      "Iteration 87, loss = 0.52138491\n",
      "Iteration 88, loss = 0.49539961\n",
      "Iteration 89, loss = 0.48567621\n",
      "Iteration 90, loss = 0.48963491\n",
      "Iteration 91, loss = 0.47899316\n",
      "Iteration 92, loss = 0.48552826\n",
      "Iteration 93, loss = 0.48385755\n",
      "Iteration 94, loss = 0.46941729\n",
      "Iteration 95, loss = 0.49140721\n",
      "Iteration 96, loss = 0.49559848\n",
      "Iteration 97, loss = 0.50272000\n",
      "Iteration 98, loss = 0.44745830\n",
      "Iteration 99, loss = 0.51000595\n",
      "Iteration 100, loss = 0.47669415\n",
      "Iteration 101, loss = 0.46451542\n",
      "Iteration 102, loss = 0.47452104\n",
      "Iteration 103, loss = 0.48459623\n",
      "Iteration 104, loss = 0.44613806\n",
      "Iteration 105, loss = 0.43413873\n",
      "Iteration 106, loss = 0.43702338\n",
      "Iteration 107, loss = 0.45262026\n",
      "Iteration 108, loss = 0.47435537\n",
      "Iteration 109, loss = 0.46095958\n",
      "Iteration 110, loss = 0.45591085\n",
      "Iteration 111, loss = 0.47010470\n",
      "Iteration 112, loss = 0.53469181\n",
      "Iteration 113, loss = 0.47373431\n",
      "Iteration 114, loss = 0.45257228\n",
      "Iteration 115, loss = 0.42942264\n",
      "Iteration 116, loss = 0.43089740\n",
      "Iteration 117, loss = 0.43686151\n",
      "Iteration 118, loss = 0.47001449\n",
      "Iteration 119, loss = 0.47363062\n",
      "Iteration 120, loss = 0.44358081\n",
      "Iteration 121, loss = 0.43570126\n",
      "Iteration 122, loss = 0.43729434\n",
      "Iteration 123, loss = 0.42786371\n",
      "Iteration 124, loss = 0.53505463\n",
      "Iteration 125, loss = 0.58644469\n",
      "Iteration 126, loss = 0.51702564\n",
      "Iteration 127, loss = 0.47894605\n",
      "Iteration 128, loss = 0.42827105\n",
      "Iteration 129, loss = 0.45894087\n",
      "Iteration 130, loss = 0.43178907\n",
      "Iteration 131, loss = 0.43446781\n",
      "Iteration 132, loss = 0.41136808\n",
      "Iteration 133, loss = 0.40925954\n",
      "Iteration 134, loss = 0.39449243\n",
      "Iteration 135, loss = 0.40173191\n",
      "Iteration 136, loss = 0.42016886\n",
      "Iteration 137, loss = 0.41344071\n",
      "Iteration 138, loss = 0.39171114\n",
      "Iteration 139, loss = 0.39332703\n",
      "Iteration 140, loss = 0.38802703\n",
      "Iteration 141, loss = 0.43033520\n",
      "Iteration 142, loss = 0.39329481\n",
      "Iteration 143, loss = 0.44507684\n",
      "Iteration 144, loss = 0.45223927\n",
      "Iteration 145, loss = 0.40337017\n",
      "Iteration 146, loss = 0.39510230\n",
      "Iteration 147, loss = 0.44021633\n",
      "Iteration 148, loss = 0.44521498\n",
      "Iteration 149, loss = 0.43512559\n",
      "Iteration 150, loss = 0.49211126\n",
      "Iteration 151, loss = 0.63276931\n",
      "Training loss did not improve more than tol=0.000100 for 10 consecutive epochs. Stopping.\n"
     ]
    },
    {
     "data": {
      "text/plain": [
       "MLPClassifier(hidden_layer_sizes=7, learning_rate_init=0.01, verbose=True)"
      ]
     },
     "execution_count": 32,
     "metadata": {},
     "output_type": "execute_result"
    }
   ],
   "source": [
    "from sklearn.neural_network import MLPClassifier\n",
    "from sklearn.metrics import classification_report, confusion_matrix, accuracy_score\n",
    " \n",
    "pmc = MLPClassifier(activation='relu',\n",
    "                    solver = 'adam',\n",
    "                    hidden_layer_sizes=(7),\n",
    "                    verbose=True,\n",
    "                    learning_rate_init=0.01)\n",
    "\n",
    "pmc.fit(propiedades_train, objetivo_train)"
   ]
  },
  {
   "cell_type": "code",
   "execution_count": 43,
   "id": "612f2f1a-fe6f-411e-a919-13ddd9965171",
   "metadata": {},
   "outputs": [
    {
     "data": {
      "text/plain": [
       "0.8"
      ]
     },
     "execution_count": 43,
     "metadata": {},
     "output_type": "execute_result"
    }
   ],
   "source": [
    "objetivo_pred=pmc.predict(propiedades_test)\n",
    "accuracy_score(objetivo_test, objetivo_pred)"
   ]
  },
  {
   "cell_type": "code",
   "execution_count": 44,
   "id": "cddf93a9-ffe3-4ae7-924d-0eca8e30bc2f",
   "metadata": {},
   "outputs": [
    {
     "name": "stdout",
     "output_type": "stream",
     "text": [
      "              precision    recall  f1-score   support\n",
      "\n",
      "          No       0.82      0.82      0.82        80\n",
      "         Yes       0.77      0.77      0.77        60\n",
      "\n",
      "    accuracy                           0.80       140\n",
      "   macro avg       0.80      0.80      0.80       140\n",
      "weighted avg       0.80      0.80      0.80       140\n",
      "\n"
     ]
    }
   ],
   "source": [
    "print(classification_report(objetivo_test, objetivo_pred))"
   ]
  },
  {
   "cell_type": "code",
   "execution_count": 45,
   "id": "a19f476e-5b03-4e4d-9361-a06f6c24c1fc",
   "metadata": {},
   "outputs": [
    {
     "name": "stdout",
     "output_type": "stream",
     "text": [
      "[[66 14]\n",
      " [14 46]]\n"
     ]
    }
   ],
   "source": [
    "CM_pmc = confusion_matrix(objetivo_test, objetivo_pred)\n",
    "print(CM_pmc)"
   ]
  },
  {
   "cell_type": "code",
   "execution_count": 46,
   "id": "ee9492df-95ba-485b-ab81-dc328594b7ba",
   "metadata": {},
   "outputs": [
    {
     "data": {
      "image/png": "[encoded data removed]",
      "text/plain": [
       "<Figure size 432x288 with 2 Axes>"
      ]
     },
     "metadata": {
      "needs_background": "light"
     },
     "output_type": "display_data"
    }
   ],
   "source": [
    "sns.heatmap(CM_pmc, annot=True, cbar=True, cmap=\"coolwarm\")\n",
    "plt.show()"
   ]
  },
  {
   "cell_type": "markdown",
   "id": "733e4c0d-47f0-40fe-9649-ba9ae6a8205d",
   "metadata": {},
   "source": [
    "## Algoritmo: KNN Clasificación para la predicción de fallas."
   ]
  },
  {
   "cell_type": "code",
   "execution_count": 48,
   "id": "57f0d6ce-54f0-4eaa-a606-eccdda256bdd",
   "metadata": {},
   "outputs": [],
   "source": [
    "from sklearn.neighbors import KNeighborsClassifier"
   ]
  },
  {
   "cell_type": "code",
   "execution_count": 49,
   "id": "f4701f24-da68-450f-8275-296aa0ac3f05",
   "metadata": {},
   "outputs": [
    {
     "data": {
      "image/png": "[encoded data removed]",
      "text/plain": [
       "<Figure size 1080x1080 with 9 Axes>"
      ]
     },
     "metadata": {
      "needs_background": "light"
     },
     "output_type": "display_data"
    }
   ],
   "source": [
    "failure.hist(bins=50, figsize=(15,15))\n",
    "plt.show()"
   ]
  },
  {
   "cell_type": "code",
   "execution_count": 78,
   "id": "b8be58f8-cdf3-41dd-8d26-3c4d59b8ae19",
   "metadata": {},
   "outputs": [
    {
     "data": {
      "text/plain": [
       "KNeighborsClassifier(metric='euclidean', n_neighbors=21)"
      ]
     },
     "execution_count": 78,
     "metadata": {},
     "output_type": "execute_result"
    }
   ],
   "source": [
    "knn = KNeighborsClassifier(n_neighbors=21, metric='euclidean')\n",
    "knn.fit(propiedades_train, objetivo_train)"
   ]
  },
  {
   "cell_type": "code",
   "execution_count": 79,
   "id": "f739980d-d4cb-4d27-8a00-5434483b7445",
   "metadata": {},
   "outputs": [
    {
     "name": "stdout",
     "output_type": "stream",
     "text": [
      "['No' 'No' 'No' 'Yes' 'Yes' 'Yes' 'No' 'No' 'No' 'No' 'Yes' 'No' 'No' 'No'\n",
      " 'No' 'Yes' 'No' 'No' 'No' 'Yes' 'No' 'No' 'Yes' 'Yes' 'No' 'No' 'No'\n",
      " 'Yes' 'No' 'Yes' 'No' 'No' 'No' 'Yes' 'Yes' 'No' 'No' 'Yes' 'Yes' 'Yes'\n",
      " 'No' 'Yes' 'Yes' 'No' 'No' 'No' 'No' 'Yes' 'No' 'Yes' 'Yes' 'No' 'No'\n",
      " 'Yes' 'Yes' 'Yes' 'No' 'No' 'No' 'Yes' 'No' 'No' 'Yes' 'No' 'Yes' 'Yes'\n",
      " 'No' 'Yes' 'No' 'Yes' 'No' 'Yes' 'Yes' 'Yes' 'No' 'No' 'Yes' 'Yes' 'Yes'\n",
      " 'No' 'Yes' 'No' 'Yes' 'No' 'No' 'No' 'No' 'No' 'No' 'Yes' 'No' 'No' 'Yes'\n",
      " 'No' 'Yes' 'Yes' 'Yes' 'Yes' 'Yes' 'No' 'Yes' 'No' 'No' 'No' 'Yes' 'Yes'\n",
      " 'No' 'No' 'No' 'Yes' 'Yes' 'No' 'No' 'Yes' 'Yes' 'Yes' 'No' 'No' 'No'\n",
      " 'Yes' 'Yes' 'No' 'Yes' 'Yes' 'No' 'No' 'No' 'No' 'No' 'No' 'No' 'Yes'\n",
      " 'No' 'No' 'No' 'No' 'Yes' 'Yes' 'No' 'Yes']\n"
     ]
    }
   ],
   "source": [
    "prediccion_obj = knn.predict(propiedades_test)\n",
    "print(prediccion_obj)"
   ]
  },
  {
   "cell_type": "code",
   "execution_count": 80,
   "id": "7dfb5574-2112-4e9e-82dd-4109ee4d00e0",
   "metadata": {},
   "outputs": [
    {
     "name": "stdout",
     "output_type": "stream",
     "text": [
      "No falló     falló\n",
      "[[0.80952381 0.19047619]\n",
      " [1.         0.        ]\n",
      " [0.61904762 0.38095238]\n",
      " [0.42857143 0.57142857]\n",
      " [0.33333333 0.66666667]\n",
      " [0.42857143 0.57142857]\n",
      " [0.80952381 0.19047619]\n",
      " [0.57142857 0.42857143]\n",
      " [0.57142857 0.42857143]\n",
      " [0.80952381 0.19047619]\n",
      " [0.42857143 0.57142857]\n",
      " [0.9047619  0.0952381 ]\n",
      " [0.85714286 0.14285714]\n",
      " [0.76190476 0.23809524]\n",
      " [0.52380952 0.47619048]\n",
      " [0.23809524 0.76190476]\n",
      " [0.61904762 0.38095238]\n",
      " [0.52380952 0.47619048]\n",
      " [0.71428571 0.28571429]\n",
      " [0.47619048 0.52380952]\n",
      " [0.61904762 0.38095238]\n",
      " [0.95238095 0.04761905]\n",
      " [0.42857143 0.57142857]\n",
      " [0.23809524 0.76190476]\n",
      " [0.66666667 0.33333333]\n",
      " [0.71428571 0.28571429]\n",
      " [0.85714286 0.14285714]\n",
      " [0.47619048 0.52380952]\n",
      " [0.80952381 0.19047619]\n",
      " [0.47619048 0.52380952]\n",
      " [0.52380952 0.47619048]\n",
      " [0.85714286 0.14285714]\n",
      " [0.80952381 0.19047619]\n",
      " [0.28571429 0.71428571]\n",
      " [0.23809524 0.76190476]\n",
      " [0.76190476 0.23809524]\n",
      " [0.61904762 0.38095238]\n",
      " [0.14285714 0.85714286]\n",
      " [0.38095238 0.61904762]\n",
      " [0.47619048 0.52380952]\n",
      " [0.95238095 0.04761905]\n",
      " [0.28571429 0.71428571]\n",
      " [0.0952381  0.9047619 ]\n",
      " [0.61904762 0.38095238]\n",
      " [0.80952381 0.19047619]\n",
      " [0.76190476 0.23809524]\n",
      " [0.52380952 0.47619048]\n",
      " [0.42857143 0.57142857]\n",
      " [0.71428571 0.28571429]\n",
      " [0.38095238 0.61904762]\n",
      " [0.47619048 0.52380952]\n",
      " [1.         0.        ]\n",
      " [0.66666667 0.33333333]\n",
      " [0.33333333 0.66666667]\n",
      " [0.47619048 0.52380952]\n",
      " [0.47619048 0.52380952]\n",
      " [0.85714286 0.14285714]\n",
      " [0.52380952 0.47619048]\n",
      " [0.85714286 0.14285714]\n",
      " [0.42857143 0.57142857]\n",
      " [0.57142857 0.42857143]\n",
      " [0.76190476 0.23809524]\n",
      " [0.47619048 0.52380952]\n",
      " [0.95238095 0.04761905]\n",
      " [0.28571429 0.71428571]\n",
      " [0.47619048 0.52380952]\n",
      " [0.57142857 0.42857143]\n",
      " [0.38095238 0.61904762]\n",
      " [0.9047619  0.0952381 ]\n",
      " [0.38095238 0.61904762]\n",
      " [0.85714286 0.14285714]\n",
      " [0.47619048 0.52380952]\n",
      " [0.23809524 0.76190476]\n",
      " [0.47619048 0.52380952]\n",
      " [0.57142857 0.42857143]\n",
      " [0.66666667 0.33333333]\n",
      " [0.38095238 0.61904762]\n",
      " [0.28571429 0.71428571]\n",
      " [0.47619048 0.52380952]\n",
      " [0.85714286 0.14285714]\n",
      " [0.42857143 0.57142857]\n",
      " [0.95238095 0.04761905]\n",
      " [0.14285714 0.85714286]\n",
      " [0.66666667 0.33333333]\n",
      " [0.57142857 0.42857143]\n",
      " [0.9047619  0.0952381 ]\n",
      " [0.85714286 0.14285714]\n",
      " [0.52380952 0.47619048]\n",
      " [0.85714286 0.14285714]\n",
      " [0.33333333 0.66666667]\n",
      " [0.66666667 0.33333333]\n",
      " [0.9047619  0.0952381 ]\n",
      " [0.38095238 0.61904762]\n",
      " [0.80952381 0.19047619]\n",
      " [0.42857143 0.57142857]\n",
      " [0.28571429 0.71428571]\n",
      " [0.33333333 0.66666667]\n",
      " [0.38095238 0.61904762]\n",
      " [0.38095238 0.61904762]\n",
      " [0.95238095 0.04761905]\n",
      " [0.47619048 0.52380952]\n",
      " [0.95238095 0.04761905]\n",
      " [0.61904762 0.38095238]\n",
      " [0.76190476 0.23809524]\n",
      " [0.47619048 0.52380952]\n",
      " [0.38095238 0.61904762]\n",
      " [0.57142857 0.42857143]\n",
      " [0.85714286 0.14285714]\n",
      " [0.61904762 0.38095238]\n",
      " [0.47619048 0.52380952]\n",
      " [0.47619048 0.52380952]\n",
      " [0.52380952 0.47619048]\n",
      " [0.76190476 0.23809524]\n",
      " [0.47619048 0.52380952]\n",
      " [0.47619048 0.52380952]\n",
      " [0.42857143 0.57142857]\n",
      " [0.52380952 0.47619048]\n",
      " [0.57142857 0.42857143]\n",
      " [0.61904762 0.38095238]\n",
      " [0.42857143 0.57142857]\n",
      " [0.42857143 0.57142857]\n",
      " [0.61904762 0.38095238]\n",
      " [0.33333333 0.66666667]\n",
      " [0.38095238 0.61904762]\n",
      " [0.57142857 0.42857143]\n",
      " [0.52380952 0.47619048]\n",
      " [0.61904762 0.38095238]\n",
      " [0.71428571 0.28571429]\n",
      " [0.76190476 0.23809524]\n",
      " [0.95238095 0.04761905]\n",
      " [0.85714286 0.14285714]\n",
      " [0.47619048 0.52380952]\n",
      " [0.85714286 0.14285714]\n",
      " [0.85714286 0.14285714]\n",
      " [0.71428571 0.28571429]\n",
      " [0.71428571 0.28571429]\n",
      " [0.38095238 0.61904762]\n",
      " [0.47619048 0.52380952]\n",
      " [0.57142857 0.42857143]\n",
      " [0.42857143 0.57142857]]\n"
     ]
    }
   ],
   "source": [
    "prob_predict = knn.predict_proba(propiedades_test)\n",
    "print(\"No falló     falló\")\n",
    "print(prob_predict)"
   ]
  },
  {
   "cell_type": "code",
   "execution_count": 81,
   "id": "69103eb4-6ab0-4080-a8d9-2523bbf04050",
   "metadata": {},
   "outputs": [
    {
     "data": {
      "text/plain": [
       "0.7714285714285715"
      ]
     },
     "execution_count": 81,
     "metadata": {},
     "output_type": "execute_result"
    }
   ],
   "source": [
    "acc = accuracy_score(objetivo_test, prediccion_obj)\n",
    "acc"
   ]
  },
  {
   "cell_type": "code",
   "execution_count": 82,
   "id": "c9eed933-e72c-46aa-a837-d89540964753",
   "metadata": {},
   "outputs": [
    {
     "name": "stdout",
     "output_type": "stream",
     "text": [
      "              precision    recall  f1-score   support\n",
      "\n",
      "          No       0.80      0.80      0.80        80\n",
      "         Yes       0.73      0.73      0.73        60\n",
      "\n",
      "    accuracy                           0.77       140\n",
      "   macro avg       0.77      0.77      0.77       140\n",
      "weighted avg       0.77      0.77      0.77       140\n",
      "\n"
     ]
    }
   ],
   "source": [
    "print(classification_report(objetivo_test, prediccion_obj))"
   ]
  },
  {
   "cell_type": "code",
   "execution_count": 83,
   "id": "a2471945-8d17-433a-bedb-08bb12cd17f9",
   "metadata": {},
   "outputs": [
    {
     "name": "stdout",
     "output_type": "stream",
     "text": [
      "[[64 16]\n",
      " [16 44]]\n"
     ]
    }
   ],
   "source": [
    "MatConf = confusion_matrix(objetivo_test, prediccion_obj)\n",
    "print(MatConf)"
   ]
  },
  {
   "cell_type": "code",
   "execution_count": 84,
   "id": "800c46bd-77cf-4836-a640-c5ffc7c8717b",
   "metadata": {},
   "outputs": [],
   "source": [
    "tasa_error = []\n",
    "for i in range(1,40):\n",
    "    knn = KNeighborsClassifier(n_neighbors=i, metric='euclidean')\n",
    "    knn.fit(propiedades_train, objetivo_train)\n",
    "    pred_i = knn.predict(propiedades_test)\n",
    "    tasa_error.append(np.mean(pred_i != objetivo_test))"
   ]
  },
  {
   "cell_type": "code",
   "execution_count": 85,
   "id": "1109169d-f28a-4663-a4a9-65bf793ed252",
   "metadata": {},
   "outputs": [
    {
     "data": {
      "text/plain": [
       "Text(0, 0.5, 'Tasa de error')"
      ]
     },
     "execution_count": 85,
     "metadata": {},
     "output_type": "execute_result"
    },
    {
     "data": {
      "image/png": "[encoded data removed]",
      "text/plain": [
       "<Figure size 720x504 with 1 Axes>"
      ]
     },
     "metadata": {
      "needs_background": "light"
     },
     "output_type": "display_data"
    }
   ],
   "source": [
    "plt.figure(figsize=(10,7))\n",
    "plt.plot(range(1,40),tasa_error,color='green',linestyle='dashed',marker='x',markerfacecolor='red',markersize=10)\n",
    "plt.title('Tasa de error vs valor de k')\n",
    "plt.xlabel('K')\n",
    "plt.ylabel('Tasa de error')"
   ]
  },
  {
   "cell_type": "code",
   "execution_count": 88,
   "id": "3a1960df-16bf-4d51-9de8-8794c0ecd6a3",
   "metadata": {},
   "outputs": [],
   "source": [
    "precision = []\n",
    "for i in range(1,40):\n",
    "    knn = KNeighborsClassifier(n_neighbors=i, metric='euclidean')\n",
    "    knn.fit(propiedades_train, objetivo_train)\n",
    "    pred_i = knn.predict(propiedades_test)\n",
    "    precision.append(accuracy_score(objetivo_test, pred_i))"
   ]
  },
  {
   "cell_type": "code",
   "execution_count": 89,
   "id": "2c987596-f2e4-4e0e-9d56-d668ee5b87ad",
   "metadata": {},
   "outputs": [
    {
     "data": {
      "text/plain": [
       "Text(0, 0.5, 'Precisión')"
      ]
     },
     "execution_count": 89,
     "metadata": {},
     "output_type": "execute_result"
    },
    {
     "data": {
      "image/png": "[encoded data removed]",
      "text/plain": [
       "<Figure size 720x720 with 1 Axes>"
      ]
     },
     "metadata": {
      "needs_background": "light"
     },
     "output_type": "display_data"
    }
   ],
   "source": [
    "plt.figure(figsize=(10,10))\n",
    "plt.plot(range(1,40),precision,color='purple',linestyle='dashed',marker='o',markerfacecolor='green',markersize=6)\n",
    "plt.title('Precisión vs. valor de k')\n",
    "plt.xlabel('K')\n",
    "plt.ylabel('Precisión')"
   ]
  },
  {
   "cell_type": "markdown",
   "id": "1746e89e-5f84-4dcf-9131-2c4209271f4a",
   "metadata": {},
   "source": [
    "## Resumen de Resultados por Algoritmo"
   ]
  },
  {
   "cell_type": "code",
   "execution_count": 3,
   "id": "5e010508-1940-4b29-b5a8-ca227ca09ce8",
   "metadata": {},
   "outputs": [
    {
     "data": {
      "text/html": [
       "<div>\n",
       "<style scoped>\n",
       "    .dataframe tbody tr th:only-of-type {\n",
       "        vertical-align: middle;\n",
       "    }\n",
       "\n",
       "    .dataframe tbody tr th {\n",
       "        vertical-align: top;\n",
       "    }\n",
       "\n",
       "    .dataframe thead th {\n",
       "        text-align: right;\n",
       "    }\n",
       "</style>\n",
       "<table border=\"1\" class=\"dataframe\">\n",
       "  <thead>\n",
       "    <tr style=\"text-align: right;\">\n",
       "      <th></th>\n",
       "      <th>Algoritmo Clasificación</th>\n",
       "      <th>Accuracy</th>\n",
       "      <th>Negativo-Verdadero</th>\n",
       "      <th>Positivo-Verdadero</th>\n",
       "    </tr>\n",
       "  </thead>\n",
       "  <tbody>\n",
       "    <tr>\n",
       "      <th>0</th>\n",
       "      <td>Árbol de decisión</td>\n",
       "      <td>0.95</td>\n",
       "      <td>75</td>\n",
       "      <td>58</td>\n",
       "    </tr>\n",
       "    <tr>\n",
       "      <th>1</th>\n",
       "      <td>Regresión Logística</td>\n",
       "      <td>0.82</td>\n",
       "      <td>65</td>\n",
       "      <td>50</td>\n",
       "    </tr>\n",
       "    <tr>\n",
       "      <th>2</th>\n",
       "      <td>Perceptrón Multicapa</td>\n",
       "      <td>0.80</td>\n",
       "      <td>66</td>\n",
       "      <td>46</td>\n",
       "    </tr>\n",
       "    <tr>\n",
       "      <th>3</th>\n",
       "      <td>KNN</td>\n",
       "      <td>0.77</td>\n",
       "      <td>64</td>\n",
       "      <td>44</td>\n",
       "    </tr>\n",
       "    <tr>\n",
       "      <th>4</th>\n",
       "      <td>Máquina de Soporte Vectorial</td>\n",
       "      <td>0.76</td>\n",
       "      <td>66</td>\n",
       "      <td>40</td>\n",
       "    </tr>\n",
       "  </tbody>\n",
       "</table>\n",
       "</div>"
      ],
      "text/plain": [
       "        Algoritmo Clasificación  Accuracy  Negativo-Verdadero  \\\n",
       "0             Árbol de decisión      0.95                  75   \n",
       "1           Regresión Logística      0.82                  65   \n",
       "2          Perceptrón Multicapa      0.80                  66   \n",
       "3                           KNN      0.77                  64   \n",
       "4  Máquina de Soporte Vectorial      0.76                  66   \n",
       "\n",
       "   Positivo-Verdadero  \n",
       "0                  58  \n",
       "1                  50  \n",
       "2                  46  \n",
       "3                  44  \n",
       "4                  40  "
      ]
     },
     "execution_count": 3,
     "metadata": {},
     "output_type": "execute_result"
    }
   ],
   "source": [
    "Results_df = pd.DataFrame({'Algoritmo Clasificación':['Árbol de decisión', 'Regresión Logística', 'Perceptrón Multicapa', 'KNN', 'Máquina de Soporte Vectorial'],\n",
    "                           'Accuracy':[0.95, 0.82, 0.8, 0.77, 0.76],\n",
    "                           'Negativo-Verdadero':[75, 65, 66 , 64, 66],\n",
    "                           'Positivo-Verdadero':[58, 50, 46, 44, 40]\n",
    "                          })\n",
    "Results_df"
   ]
  },
  {
   "cell_type": "code",
   "execution_count": null,
   "id": "d51a7f7e-0793-4cba-8e45-b64931764119",
   "metadata": {},
   "outputs": [],
   "source": []
  }
 ],
 "metadata": {
  "kernelspec": {
   "display_name": "Python 3",
   "language": "python",
   "name": "python3"
  },
  "language_info": {
   "codemirror_mode": {
    "name": "ipython",
    "version": 3
   },
   "file_extension": ".py",
   "mimetype": "text/x-python",
   "name": "python",
   "nbconvert_exporter": "python",
   "pygments_lexer": "ipython3",
   "version": "3.8.11"
  }
 },
 "nbformat": 4,
 "nbformat_minor": 5
}
